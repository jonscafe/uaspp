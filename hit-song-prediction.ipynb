{
 "cells": [
  {
   "cell_type": "markdown",
   "metadata": {},
   "source": [
    "# **PREDICTING HIT SONGS**\n",
    "**THERE ARE 3 DATASETS EXTRACTED FROM THE SPOTIFY API:**\n",
    "* TRAINING DATASET - ONLY HIT SONGS\n",
    "* TESTING DATASET - RANDOM SONGS\n",
    "* EVALUATING DATASET - SONGS WITH VIEW COUNT\n",
    "|"
   ]
  },
  {
   "cell_type": "markdown",
   "metadata": {},
   "source": [
    "**THE WHOLE GOAL WAS TO TRAIN A MODEL ON METADATA OF HIT SONGS LIKE:**\n",
    "\n",
    "'tempo','key','mode','danceability','valence','energy','acousticness','instrumentalness','liveness','speechiness'"
   ]
  },
  {
   "cell_type": "markdown",
   "metadata": {},
   "source": [
    "**PREDICT USING RANDOM SONGS AND MATCH THE RESULT WITH THEIR VIEWS TO CHECK THE ACCURACY OF THE MODEL'S PREDICTION**"
   ]
  },
  {
   "cell_type": "markdown",
   "metadata": {},
   "source": [
    "# **KAGGLE START**"
   ]
  },
  {
   "cell_type": "code",
   "execution_count": 3,
   "metadata": {
    "_cell_guid": "b1076dfc-b9ad-4769-8c92-a6c4dae69d19",
    "_uuid": "8f2839f25d086af736a60e9eeb907d3b93b6e0e5",
    "execution": {
     "iopub.execute_input": "2023-12-24T01:11:15.941796Z",
     "iopub.status.busy": "2023-12-24T01:11:15.941455Z",
     "iopub.status.idle": "2023-12-24T01:11:16.277200Z",
     "shell.execute_reply": "2023-12-24T01:11:16.276234Z",
     "shell.execute_reply.started": "2023-12-24T01:11:15.941770Z"
    }
   },
   "outputs": [
    {
     "name": "stdout",
     "output_type": "stream",
     "text": [
      "/kaggle/input/30000-spotify-songs/readme.md\n",
      "/kaggle/input/30000-spotify-songs/spotify_songs.csv\n",
      "/kaggle/input/top-spotify-songs-2023/spotify-2023.csv\n",
      "/kaggle/input/the-spotify-hit-predictor-dataset/LICENSE\n",
      "/kaggle/input/the-spotify-hit-predictor-dataset/dataset-of-70s.csv\n",
      "/kaggle/input/the-spotify-hit-predictor-dataset/dataset-of-10s.csv\n",
      "/kaggle/input/the-spotify-hit-predictor-dataset/README.txt\n",
      "/kaggle/input/the-spotify-hit-predictor-dataset/dataset-of-60s.csv\n",
      "/kaggle/input/the-spotify-hit-predictor-dataset/dataset-of-80s.csv\n",
      "/kaggle/input/the-spotify-hit-predictor-dataset/dataset-of-00s.csv\n",
      "/kaggle/input/the-spotify-hit-predictor-dataset/dataset-of-90s.csv\n"
     ]
    }
   ],
   "source": [
    "# This Python 3 environment comes with many helpful analytics libraries installed\n",
    "# It is defined by the kaggle/python Docker image: https://github.com/kaggle/docker-python\n",
    "# For example, here's several helpful packages to load\n",
    "\n",
    "import numpy as np # linear algebra\n",
    "import pandas as pd # data processing, CSV file I/O (e.g. pd.read_csv)\n",
    "\n",
    "# Input data files are available in the read-only \"../input/\" directory\n",
    "# For example, running this (by clicking run or pressing Shift+Enter) will list all files under the input directory\n",
    "\n",
    "import os\n",
    "for dirname, _, filenames in os.walk('/kaggle/input'):\n",
    "    for filename in filenames:\n",
    "        print(os.path.join(dirname, filename))\n",
    "\n",
    "# You can write up to 20GB to the current directory (/kaggle/working/) that gets preserved as output when you create a version using \"Save & Run All\" \n",
    "# You can also write temporary files to /kaggle/temp/, but they won't be saved outside of the current session"
   ]
  },
  {
   "cell_type": "markdown",
   "metadata": {},
   "source": [
    "# **CONCATENATING THE TRAINING DATASET**"
   ]
  },
  {
   "cell_type": "code",
   "execution_count": 4,
   "metadata": {
    "execution": {
     "iopub.execute_input": "2023-12-24T01:11:16.279197Z",
     "iopub.status.busy": "2023-12-24T01:11:16.278727Z",
     "iopub.status.idle": "2023-12-24T01:11:16.537439Z",
     "shell.execute_reply": "2023-12-24T01:11:16.536475Z",
     "shell.execute_reply.started": "2023-12-24T01:11:16.279155Z"
    }
   },
   "outputs": [
    {
     "name": "stdout",
     "output_type": "stream",
     "text": [
      "(6398, 13)\n",
      "(5872, 13)\n",
      "(5520, 13)\n",
      "(6908, 13)\n",
      "(7766, 13)\n",
      "(8642, 13)\n"
     ]
    }
   ],
   "source": [
    "hits_dataset_filenames=['dataset-of-10s','dataset-of-00s','dataset-of-90s','dataset-of-80s','dataset-of-70s','dataset-of-60s']\n",
    "hits_dataset_dict={}\n",
    "for name in hits_dataset_filenames:\n",
    "    df=pd.read_csv(f'/kaggle/input/the-spotify-hit-predictor-dataset/{name}.csv')\n",
    "    df.drop(df.iloc[:, 14:18], inplace=True, axis=1)\n",
    "    \n",
    "    df.drop(['uri'], inplace=True, axis=1)\n",
    "    df.drop(['loudness'], inplace=True, axis=1)\n",
    "    \n",
    "    print(df.shape)\n",
    "    hits_dataset_dict[name]=df\n"
   ]
  },
  {
   "cell_type": "markdown",
   "metadata": {},
   "source": [
    "# **FILTERING THE FEATURES AND SAVING THE TRACK AND NAME**"
   ]
  },
  {
   "cell_type": "code",
   "execution_count": 5,
   "metadata": {
    "execution": {
     "iopub.execute_input": "2023-12-24T01:11:38.707711Z",
     "iopub.status.busy": "2023-12-24T01:11:38.707351Z",
     "iopub.status.idle": "2023-12-24T01:11:38.807473Z",
     "shell.execute_reply": "2023-12-24T01:11:38.806471Z",
     "shell.execute_reply.started": "2023-12-24T01:11:38.707684Z"
    }
   },
   "outputs": [
    {
     "name": "stdout",
     "output_type": "stream",
     "text": [
      "<class 'pandas.core.frame.DataFrame'>\n",
      "RangeIndex: 41106 entries, 0 to 41105\n",
      "Data columns (total 11 columns):\n",
      " #   Column            Non-Null Count  Dtype  \n",
      "---  ------            --------------  -----  \n",
      " 0   danceability      41106 non-null  float64\n",
      " 1   energy            41106 non-null  float64\n",
      " 2   key               41106 non-null  int64  \n",
      " 3   mode              41106 non-null  int64  \n",
      " 4   speechiness       41106 non-null  float64\n",
      " 5   acousticness      41106 non-null  float64\n",
      " 6   instrumentalness  41106 non-null  float64\n",
      " 7   liveness          41106 non-null  float64\n",
      " 8   valence           41106 non-null  float64\n",
      " 9   tempo             41106 non-null  float64\n",
      " 10  target            41106 non-null  int64  \n",
      "dtypes: float64(8), int64(3)\n",
      "memory usage: 3.4 MB\n"
     ]
    }
   ],
   "source": [
    "full_hits_dataset = pd.concat(hits_dataset_dict.values(), ignore_index=True, axis=0)\n",
    "track_artist_fhd=full_hits_dataset.pop('track') +full_hits_dataset.pop('artist')\n",
    "track_artist_fhd.to_csv('/kaggle/working/track_artist_fhd.csv')\n",
    "full_hits_dataset.info()"
   ]
  },
  {
   "cell_type": "markdown",
   "metadata": {},
   "source": [
    "# **FILTERING THE VIEWS DATASET**"
   ]
  },
  {
   "cell_type": "code",
   "execution_count": 50,
   "metadata": {
    "execution": {
     "iopub.execute_input": "2023-12-23T20:48:31.247738Z",
     "iopub.status.busy": "2023-12-23T20:48:31.247363Z",
     "iopub.status.idle": "2023-12-23T20:48:31.265000Z",
     "shell.execute_reply": "2023-12-23T20:48:31.263937Z",
     "shell.execute_reply.started": "2023-12-23T20:48:31.247712Z"
    }
   },
   "outputs": [
    {
     "name": "stdout",
     "output_type": "stream",
     "text": [
      "Index(['track_name', 'artist(s)_name', 'artist_count', 'released_year',\n",
      "       'released_month', 'released_day', 'in_spotify_playlists',\n",
      "       'in_spotify_charts', 'in_apple_playlists', 'in_apple_charts',\n",
      "       'in_deezer_playlists', 'in_deezer_charts', 'in_shazam_charts', 'bpm',\n",
      "       'key', 'mode', 'danceability_%', 'valence_%', 'energy_%',\n",
      "       'acousticness_%', 'instrumentalness_%', 'liveness_%', 'speechiness_%'],\n",
      "      dtype='object')\n"
     ]
    },
    {
     "data": {
      "text/plain": [
       "Index(['track_name', 'artist(s)_name', 'bpm', 'key', 'mode', 'danceability_%',\n",
       "       'valence_%', 'energy_%', 'acousticness_%', 'instrumentalness_%',\n",
       "       'liveness_%', 'speechiness_%'],\n",
       "      dtype='object')"
      ]
     },
     "execution_count": 50,
     "metadata": {},
     "output_type": "execute_result"
    }
   ],
   "source": [
    "top_songs_dataset=pd.read_csv('/kaggle/input/top-spotify-songs-2023/spotify-2023.csv',encoding='latin-1')\n",
    "top_songs_views_dataset=top_songs_dataset.pop('streams')\n",
    "print(top_songs_dataset.columns)\n",
    "top_songs_dataset.drop(top_songs_dataset.iloc[:, 2:13], inplace=True, axis=1)\n",
    "# top_songs_dataset.drop(['track_id','duration_ms'], inplace=True, axis=1)\n",
    "\n",
    "top_songs_dataset.columns"
   ]
  },
  {
   "cell_type": "code",
   "execution_count": 51,
   "metadata": {
    "execution": {
     "iopub.execute_input": "2023-12-23T20:48:31.286527Z",
     "iopub.status.busy": "2023-12-23T20:48:31.286180Z",
     "iopub.status.idle": "2023-12-23T20:48:31.296529Z",
     "shell.execute_reply": "2023-12-23T20:48:31.295361Z",
     "shell.execute_reply.started": "2023-12-23T20:48:31.286497Z"
    }
   },
   "outputs": [
    {
     "data": {
      "text/plain": [
       "0      141381703\n",
       "1      133716286\n",
       "2      140003974\n",
       "3      800840817\n",
       "4      303236322\n",
       "         ...    \n",
       "948     91473363\n",
       "949    121871870\n",
       "950     73513683\n",
       "951    133895612\n",
       "952     96007391\n",
       "Name: streams, Length: 953, dtype: object"
      ]
     },
     "execution_count": 51,
     "metadata": {},
     "output_type": "execute_result"
    }
   ],
   "source": [
    "top_songs_views_dataset"
   ]
  },
  {
   "cell_type": "markdown",
   "metadata": {},
   "source": [
    "# **FILTERING THE TESTING DATASET**"
   ]
  },
  {
   "cell_type": "code",
   "execution_count": 52,
   "metadata": {
    "execution": {
     "iopub.execute_input": "2023-12-23T20:48:31.352160Z",
     "iopub.status.busy": "2023-12-23T20:48:31.351755Z",
     "iopub.status.idle": "2023-12-23T20:48:31.527847Z",
     "shell.execute_reply": "2023-12-23T20:48:31.526441Z",
     "shell.execute_reply.started": "2023-12-23T20:48:31.352120Z"
    }
   },
   "outputs": [
    {
     "data": {
      "text/html": [
       "<div>\n",
       "<style scoped>\n",
       "    .dataframe tbody tr th:only-of-type {\n",
       "        vertical-align: middle;\n",
       "    }\n",
       "\n",
       "    .dataframe tbody tr th {\n",
       "        vertical-align: top;\n",
       "    }\n",
       "\n",
       "    .dataframe thead th {\n",
       "        text-align: right;\n",
       "    }\n",
       "</style>\n",
       "<table border=\"1\" class=\"dataframe\">\n",
       "  <thead>\n",
       "    <tr style=\"text-align: right;\">\n",
       "      <th></th>\n",
       "      <th>track_name</th>\n",
       "      <th>track_artist</th>\n",
       "      <th>danceability</th>\n",
       "      <th>energy</th>\n",
       "      <th>key</th>\n",
       "      <th>mode</th>\n",
       "      <th>speechiness</th>\n",
       "      <th>acousticness</th>\n",
       "      <th>instrumentalness</th>\n",
       "      <th>liveness</th>\n",
       "      <th>valence</th>\n",
       "      <th>tempo</th>\n",
       "    </tr>\n",
       "  </thead>\n",
       "  <tbody>\n",
       "    <tr>\n",
       "      <th>0</th>\n",
       "      <td>I Don't Care (with Justin Bieber) - Loud Luxur...</td>\n",
       "      <td>Ed Sheeran</td>\n",
       "      <td>0.748</td>\n",
       "      <td>0.916</td>\n",
       "      <td>6</td>\n",
       "      <td>1</td>\n",
       "      <td>0.0583</td>\n",
       "      <td>0.102000</td>\n",
       "      <td>0.000000</td>\n",
       "      <td>0.0653</td>\n",
       "      <td>0.5180</td>\n",
       "      <td>122.036</td>\n",
       "    </tr>\n",
       "    <tr>\n",
       "      <th>1</th>\n",
       "      <td>Memories - Dillon Francis Remix</td>\n",
       "      <td>Maroon 5</td>\n",
       "      <td>0.726</td>\n",
       "      <td>0.815</td>\n",
       "      <td>11</td>\n",
       "      <td>1</td>\n",
       "      <td>0.0373</td>\n",
       "      <td>0.072400</td>\n",
       "      <td>0.004210</td>\n",
       "      <td>0.3570</td>\n",
       "      <td>0.6930</td>\n",
       "      <td>99.972</td>\n",
       "    </tr>\n",
       "    <tr>\n",
       "      <th>2</th>\n",
       "      <td>All the Time - Don Diablo Remix</td>\n",
       "      <td>Zara Larsson</td>\n",
       "      <td>0.675</td>\n",
       "      <td>0.931</td>\n",
       "      <td>1</td>\n",
       "      <td>0</td>\n",
       "      <td>0.0742</td>\n",
       "      <td>0.079400</td>\n",
       "      <td>0.000023</td>\n",
       "      <td>0.1100</td>\n",
       "      <td>0.6130</td>\n",
       "      <td>124.008</td>\n",
       "    </tr>\n",
       "    <tr>\n",
       "      <th>3</th>\n",
       "      <td>Call You Mine - Keanu Silva Remix</td>\n",
       "      <td>The Chainsmokers</td>\n",
       "      <td>0.718</td>\n",
       "      <td>0.930</td>\n",
       "      <td>7</td>\n",
       "      <td>1</td>\n",
       "      <td>0.1020</td>\n",
       "      <td>0.028700</td>\n",
       "      <td>0.000009</td>\n",
       "      <td>0.2040</td>\n",
       "      <td>0.2770</td>\n",
       "      <td>121.956</td>\n",
       "    </tr>\n",
       "    <tr>\n",
       "      <th>4</th>\n",
       "      <td>Someone You Loved - Future Humans Remix</td>\n",
       "      <td>Lewis Capaldi</td>\n",
       "      <td>0.650</td>\n",
       "      <td>0.833</td>\n",
       "      <td>1</td>\n",
       "      <td>1</td>\n",
       "      <td>0.0359</td>\n",
       "      <td>0.080300</td>\n",
       "      <td>0.000000</td>\n",
       "      <td>0.0833</td>\n",
       "      <td>0.7250</td>\n",
       "      <td>123.976</td>\n",
       "    </tr>\n",
       "    <tr>\n",
       "      <th>...</th>\n",
       "      <td>...</td>\n",
       "      <td>...</td>\n",
       "      <td>...</td>\n",
       "      <td>...</td>\n",
       "      <td>...</td>\n",
       "      <td>...</td>\n",
       "      <td>...</td>\n",
       "      <td>...</td>\n",
       "      <td>...</td>\n",
       "      <td>...</td>\n",
       "      <td>...</td>\n",
       "      <td>...</td>\n",
       "    </tr>\n",
       "    <tr>\n",
       "      <th>32828</th>\n",
       "      <td>City Of Lights - Official Radio Edit</td>\n",
       "      <td>Lush &amp; Simon</td>\n",
       "      <td>0.428</td>\n",
       "      <td>0.922</td>\n",
       "      <td>2</td>\n",
       "      <td>1</td>\n",
       "      <td>0.0936</td>\n",
       "      <td>0.076600</td>\n",
       "      <td>0.000000</td>\n",
       "      <td>0.0668</td>\n",
       "      <td>0.2100</td>\n",
       "      <td>128.170</td>\n",
       "    </tr>\n",
       "    <tr>\n",
       "      <th>32829</th>\n",
       "      <td>Closer - Sultan &amp; Ned Shepard Remix</td>\n",
       "      <td>Tegan and Sara</td>\n",
       "      <td>0.522</td>\n",
       "      <td>0.786</td>\n",
       "      <td>0</td>\n",
       "      <td>1</td>\n",
       "      <td>0.0420</td>\n",
       "      <td>0.001710</td>\n",
       "      <td>0.004270</td>\n",
       "      <td>0.3750</td>\n",
       "      <td>0.4000</td>\n",
       "      <td>128.041</td>\n",
       "    </tr>\n",
       "    <tr>\n",
       "      <th>32830</th>\n",
       "      <td>Sweet Surrender - Radio Edit</td>\n",
       "      <td>Starkillers</td>\n",
       "      <td>0.529</td>\n",
       "      <td>0.821</td>\n",
       "      <td>6</td>\n",
       "      <td>0</td>\n",
       "      <td>0.0481</td>\n",
       "      <td>0.108000</td>\n",
       "      <td>0.000001</td>\n",
       "      <td>0.1500</td>\n",
       "      <td>0.4360</td>\n",
       "      <td>127.989</td>\n",
       "    </tr>\n",
       "    <tr>\n",
       "      <th>32831</th>\n",
       "      <td>Only For You - Maor Levi Remix</td>\n",
       "      <td>Mat Zo</td>\n",
       "      <td>0.626</td>\n",
       "      <td>0.888</td>\n",
       "      <td>2</td>\n",
       "      <td>1</td>\n",
       "      <td>0.1090</td>\n",
       "      <td>0.007920</td>\n",
       "      <td>0.127000</td>\n",
       "      <td>0.3430</td>\n",
       "      <td>0.3080</td>\n",
       "      <td>128.008</td>\n",
       "    </tr>\n",
       "    <tr>\n",
       "      <th>32832</th>\n",
       "      <td>Typhoon - Original Mix</td>\n",
       "      <td>Julian Calor</td>\n",
       "      <td>0.603</td>\n",
       "      <td>0.884</td>\n",
       "      <td>5</td>\n",
       "      <td>0</td>\n",
       "      <td>0.0385</td>\n",
       "      <td>0.000133</td>\n",
       "      <td>0.341000</td>\n",
       "      <td>0.7420</td>\n",
       "      <td>0.0894</td>\n",
       "      <td>127.984</td>\n",
       "    </tr>\n",
       "  </tbody>\n",
       "</table>\n",
       "<p>32833 rows × 12 columns</p>\n",
       "</div>"
      ],
      "text/plain": [
       "                                              track_name      track_artist  \\\n",
       "0      I Don't Care (with Justin Bieber) - Loud Luxur...        Ed Sheeran   \n",
       "1                        Memories - Dillon Francis Remix          Maroon 5   \n",
       "2                        All the Time - Don Diablo Remix      Zara Larsson   \n",
       "3                      Call You Mine - Keanu Silva Remix  The Chainsmokers   \n",
       "4                Someone You Loved - Future Humans Remix     Lewis Capaldi   \n",
       "...                                                  ...               ...   \n",
       "32828               City Of Lights - Official Radio Edit      Lush & Simon   \n",
       "32829                Closer - Sultan & Ned Shepard Remix    Tegan and Sara   \n",
       "32830                       Sweet Surrender - Radio Edit       Starkillers   \n",
       "32831                     Only For You - Maor Levi Remix            Mat Zo   \n",
       "32832                             Typhoon - Original Mix      Julian Calor   \n",
       "\n",
       "       danceability  energy  key  mode  speechiness  acousticness  \\\n",
       "0             0.748   0.916    6     1       0.0583      0.102000   \n",
       "1             0.726   0.815   11     1       0.0373      0.072400   \n",
       "2             0.675   0.931    1     0       0.0742      0.079400   \n",
       "3             0.718   0.930    7     1       0.1020      0.028700   \n",
       "4             0.650   0.833    1     1       0.0359      0.080300   \n",
       "...             ...     ...  ...   ...          ...           ...   \n",
       "32828         0.428   0.922    2     1       0.0936      0.076600   \n",
       "32829         0.522   0.786    0     1       0.0420      0.001710   \n",
       "32830         0.529   0.821    6     0       0.0481      0.108000   \n",
       "32831         0.626   0.888    2     1       0.1090      0.007920   \n",
       "32832         0.603   0.884    5     0       0.0385      0.000133   \n",
       "\n",
       "       instrumentalness  liveness  valence    tempo  \n",
       "0              0.000000    0.0653   0.5180  122.036  \n",
       "1              0.004210    0.3570   0.6930   99.972  \n",
       "2              0.000023    0.1100   0.6130  124.008  \n",
       "3              0.000009    0.2040   0.2770  121.956  \n",
       "4              0.000000    0.0833   0.7250  123.976  \n",
       "...                 ...       ...      ...      ...  \n",
       "32828          0.000000    0.0668   0.2100  128.170  \n",
       "32829          0.004270    0.3750   0.4000  128.041  \n",
       "32830          0.000001    0.1500   0.4360  127.989  \n",
       "32831          0.127000    0.3430   0.3080  128.008  \n",
       "32832          0.341000    0.7420   0.0894  127.984  \n",
       "\n",
       "[32833 rows x 12 columns]"
      ]
     },
     "execution_count": 52,
     "metadata": {},
     "output_type": "execute_result"
    }
   ],
   "source": [
    "most_songs_dataset=pd.read_csv('/kaggle/input/30000-spotify-songs/spotify_songs.csv')\n",
    "\n",
    "most_songs_dataset.drop(most_songs_dataset.iloc[:, 3:11], inplace=True, axis=1)\n",
    "most_songs_dataset.drop(['track_id','duration_ms','loudness'], inplace=True, axis=1)\n",
    "\n",
    "\n",
    "\n",
    "most_songs_dataset"
   ]
  },
  {
   "cell_type": "markdown",
   "metadata": {},
   "source": [
    "# **SORTING THE FEATURES OF THE TRAINGING DATASET AND SAVING THEIR TRACK AND ARTIST**"
   ]
  },
  {
   "cell_type": "code",
   "execution_count": 53,
   "metadata": {
    "execution": {
     "iopub.execute_input": "2023-12-23T20:48:31.529696Z",
     "iopub.status.busy": "2023-12-23T20:48:31.529410Z",
     "iopub.status.idle": "2023-12-23T20:48:31.602199Z",
     "shell.execute_reply": "2023-12-23T20:48:31.601322Z",
     "shell.execute_reply.started": "2023-12-23T20:48:31.529654Z"
    }
   },
   "outputs": [
    {
     "name": "stdout",
     "output_type": "stream",
     "text": [
      "track_name\n",
      "track_artist\n",
      "track\n",
      "artist\n"
     ]
    },
    {
     "data": {
      "text/plain": [
       "0        I Don't Care (with Justin Bieber) - Loud Luxur...\n",
       "1                 Memories - Dillon Francis Remix Maroon 5\n",
       "2             All the Time - Don Diablo Remix Zara Larsson\n",
       "3        Call You Mine - Keanu Silva Remix The Chainsmo...\n",
       "4        Someone You Loved - Future Humans Remix Lewis ...\n",
       "                               ...                        \n",
       "32828    City Of Lights - Official Radio Edit Lush & Simon\n",
       "32829    Closer - Sultan & Ned Shepard Remix Tegan and ...\n",
       "32830             Sweet Surrender - Radio Edit Starkillers\n",
       "32831                Only For You - Maor Levi Remix Mat Zo\n",
       "32832                  Typhoon - Original Mix Julian Calor\n",
       "Length: 32833, dtype: object"
      ]
     },
     "execution_count": 53,
     "metadata": {},
     "output_type": "execute_result"
    }
   ],
   "source": [
    "# for l in most_songs_dataset.columns:\n",
    "#     for i in most_songs_dataset.columns:\n",
    "#         if l!=i:\n",
    "#             print(l,i)\n",
    "for l in most_songs_dataset.columns:\n",
    "    if l not in full_hits_dataset.columns:\n",
    "        print(l)\n",
    "        \n",
    "most_songs_dataset.rename(columns={\"track_name\":\"track\",\"track_artist\":\"artist\"}, inplace=True)\n",
    "for l in most_songs_dataset.columns:\n",
    "    if l not in full_hits_dataset.columns:\n",
    "        print(l)\n",
    "        \n",
    "track_artist_msd=most_songs_dataset.pop('track') +\" \"+ most_songs_dataset.pop('artist') \n",
    "track_artist_msd.to_csv('/kaggle/working/track_artist_msd.csv')\n",
    "\n",
    "track_artist_msd\n",
    " "
   ]
  },
  {
   "cell_type": "markdown",
   "metadata": {},
   "source": [
    "# **KEY FEATURES THE MODELS WILL BE BASED ON**"
   ]
  },
  {
   "cell_type": "code",
   "execution_count": 54,
   "metadata": {
    "execution": {
     "iopub.execute_input": "2023-12-23T20:48:31.603915Z",
     "iopub.status.busy": "2023-12-23T20:48:31.603602Z",
     "iopub.status.idle": "2023-12-23T20:48:31.609133Z",
     "shell.execute_reply": "2023-12-23T20:48:31.607788Z",
     "shell.execute_reply.started": "2023-12-23T20:48:31.603891Z"
    }
   },
   "outputs": [],
   "source": [
    "features=['tempo','key','mode','danceability','valence','energy','acousticness','instrumentalness','liveness','speechiness']"
   ]
  },
  {
   "cell_type": "markdown",
   "metadata": {},
   "source": [
    "# **EXTRACTING THE VIEWS AND THEIR TRACK**"
   ]
  },
  {
   "cell_type": "code",
   "execution_count": 55,
   "metadata": {
    "execution": {
     "iopub.execute_input": "2023-12-23T20:48:31.612157Z",
     "iopub.status.busy": "2023-12-23T20:48:31.611804Z",
     "iopub.status.idle": "2023-12-23T20:48:31.640771Z",
     "shell.execute_reply": "2023-12-23T20:48:31.639725Z",
     "shell.execute_reply.started": "2023-12-23T20:48:31.612129Z"
    }
   },
   "outputs": [
    {
     "name": "stdout",
     "output_type": "stream",
     "text": [
      "track_name\n",
      "artist(s)_name\n",
      "bpm\n",
      "danceability_%\n",
      "valence_%\n",
      "energy_%\n",
      "acousticness_%\n",
      "instrumentalness_%\n",
      "liveness_%\n",
      "speechiness_%\n",
      "track\n",
      "artist\n"
     ]
    },
    {
     "data": {
      "text/html": [
       "<div>\n",
       "<style scoped>\n",
       "    .dataframe tbody tr th:only-of-type {\n",
       "        vertical-align: middle;\n",
       "    }\n",
       "\n",
       "    .dataframe tbody tr th {\n",
       "        vertical-align: top;\n",
       "    }\n",
       "\n",
       "    .dataframe thead th {\n",
       "        text-align: right;\n",
       "    }\n",
       "</style>\n",
       "<table border=\"1\" class=\"dataframe\">\n",
       "  <thead>\n",
       "    <tr style=\"text-align: right;\">\n",
       "      <th></th>\n",
       "      <th>track - artist</th>\n",
       "      <th>views</th>\n",
       "    </tr>\n",
       "  </thead>\n",
       "  <tbody>\n",
       "    <tr>\n",
       "      <th>0</th>\n",
       "      <td>Seven (feat. Latto) (Explicit Ver.) Latto, Jun...</td>\n",
       "      <td>141381703</td>\n",
       "    </tr>\n",
       "    <tr>\n",
       "      <th>1</th>\n",
       "      <td>LALA Myke Towers</td>\n",
       "      <td>133716286</td>\n",
       "    </tr>\n",
       "    <tr>\n",
       "      <th>2</th>\n",
       "      <td>vampire Olivia Rodrigo</td>\n",
       "      <td>140003974</td>\n",
       "    </tr>\n",
       "    <tr>\n",
       "      <th>3</th>\n",
       "      <td>Cruel Summer Taylor Swift</td>\n",
       "      <td>800840817</td>\n",
       "    </tr>\n",
       "    <tr>\n",
       "      <th>4</th>\n",
       "      <td>WHERE SHE GOES Bad Bunny</td>\n",
       "      <td>303236322</td>\n",
       "    </tr>\n",
       "    <tr>\n",
       "      <th>...</th>\n",
       "      <td>...</td>\n",
       "      <td>...</td>\n",
       "    </tr>\n",
       "    <tr>\n",
       "      <th>948</th>\n",
       "      <td>My Mind &amp; Me Selena Gomez</td>\n",
       "      <td>91473363</td>\n",
       "    </tr>\n",
       "    <tr>\n",
       "      <th>949</th>\n",
       "      <td>Bigger Than The Whole Sky Taylor Swift</td>\n",
       "      <td>121871870</td>\n",
       "    </tr>\n",
       "    <tr>\n",
       "      <th>950</th>\n",
       "      <td>A Veces (feat. Feid) Feid, Paulo Londra</td>\n",
       "      <td>73513683</td>\n",
       "    </tr>\n",
       "    <tr>\n",
       "      <th>951</th>\n",
       "      <td>En La De Ella Feid, Sech, Jhayco</td>\n",
       "      <td>133895612</td>\n",
       "    </tr>\n",
       "    <tr>\n",
       "      <th>952</th>\n",
       "      <td>Alone Burna Boy</td>\n",
       "      <td>96007391</td>\n",
       "    </tr>\n",
       "  </tbody>\n",
       "</table>\n",
       "<p>953 rows × 2 columns</p>\n",
       "</div>"
      ],
      "text/plain": [
       "                                        track - artist      views\n",
       "0    Seven (feat. Latto) (Explicit Ver.) Latto, Jun...  141381703\n",
       "1                                     LALA Myke Towers  133716286\n",
       "2                               vampire Olivia Rodrigo  140003974\n",
       "3                            Cruel Summer Taylor Swift  800840817\n",
       "4                             WHERE SHE GOES Bad Bunny  303236322\n",
       "..                                                 ...        ...\n",
       "948                          My Mind & Me Selena Gomez   91473363\n",
       "949             Bigger Than The Whole Sky Taylor Swift  121871870\n",
       "950            A Veces (feat. Feid) Feid, Paulo Londra   73513683\n",
       "951                   En La De Ella Feid, Sech, Jhayco  133895612\n",
       "952                                    Alone Burna Boy   96007391\n",
       "\n",
       "[953 rows x 2 columns]"
      ]
     },
     "execution_count": 55,
     "metadata": {},
     "output_type": "execute_result"
    }
   ],
   "source": [
    "#no loudness in this\n",
    "for l in top_songs_dataset.columns:\n",
    "    if l not in full_hits_dataset.columns:\n",
    "        print(l)\n",
    "        \n",
    "# top_songs_dataset.rename(columns={\"track_name\":\"track\",\"track_artist\":\"artist\"}, inplace=True)\n",
    "top_songs_dataset\n",
    "top_songs_dataset=top_songs_dataset.set_axis(['track','artist','tempo','key','mode','danceability','valence','energy','acousticness','instrumentalness','liveness','speechiness'], axis=\"columns\")\n",
    "for l in top_songs_dataset.columns:\n",
    "    if l not in full_hits_dataset.columns:\n",
    "        print(l)\n",
    "track_artist_tsd=top_songs_dataset.pop('track')+\" \" +top_songs_dataset.pop('artist')\n",
    "track_artist_tsd.to_csv('/kaggle/working/track_artist_tsd.csv')\n",
    "top_songs_views_dataset=pd.concat([track_artist_tsd,top_songs_views_dataset], axis=1, join=\"inner\",ignore_index=True)\n",
    "top_songs_views_dataset=top_songs_views_dataset.set_axis(['track - artist', 'views'],axis='columns')\n",
    "top_songs_views_dataset.to_csv('/kaggle/working/top_songs_views_dataset.csv')\n",
    "\n",
    "top_songs_views_dataset     \n",
    "# top_songs_views_dataset.columns"
   ]
  },
  {
   "cell_type": "markdown",
   "metadata": {},
   "source": [
    "# **SPOTIFY'S CHORDS FROM THEIR API**"
   ]
  },
  {
   "cell_type": "code",
   "execution_count": 56,
   "metadata": {
    "execution": {
     "iopub.execute_input": "2023-12-23T20:48:31.642688Z",
     "iopub.status.busy": "2023-12-23T20:48:31.642308Z",
     "iopub.status.idle": "2023-12-23T20:48:31.647191Z",
     "shell.execute_reply": "2023-12-23T20:48:31.646556Z",
     "shell.execute_reply.started": "2023-12-23T20:48:31.642633Z"
    }
   },
   "outputs": [],
   "source": [
    "chords=['C','C#','D','D#','E','F','F#','G','G#','A','A#','B']"
   ]
  },
  {
   "cell_type": "markdown",
   "metadata": {},
   "source": [
    "# **PREPROCESSING THE VIEWS DATASET**"
   ]
  },
  {
   "cell_type": "code",
   "execution_count": 57,
   "metadata": {
    "execution": {
     "iopub.execute_input": "2023-12-23T20:48:31.648680Z",
     "iopub.status.busy": "2023-12-23T20:48:31.648409Z",
     "iopub.status.idle": "2023-12-23T20:48:31.673257Z",
     "shell.execute_reply": "2023-12-23T20:48:31.672195Z",
     "shell.execute_reply.started": "2023-12-23T20:48:31.648637Z"
    }
   },
   "outputs": [
    {
     "name": "stdout",
     "output_type": "stream",
     "text": [
      "[125  92 138 170 144 141 148 100 130  83 150 118 174  89 120  78 140 123\n",
      " 135 133  99 107 122 204 110 126 168  98  97 180  96  95  90 128  79 134\n",
      " 186  67 106 171 137 101 173 198  82  81  94 124 132 131 102 142 116 129\n",
      " 172 136  88 143 112  93 206  84 158 117 114 108 121 127 139 162 146 115\n",
      " 119  80 160 192 163 154 104 164 145  85 166 109 157  74 105 155 149 169\n",
      "  91 202 153 178 176 111 182 175  87  76 113  77 177 147  75 103 151 152\n",
      "  65 179  86  73 181 161  72 184  71 189 200 196 188 156 183 165]\n",
      "[11 1 5 9 2 6 -1 8 7 4 10 3]\n",
      "[1 0]\n",
      "[80 71 51 55 65 92 67 85 81 57 78 52 64 44 86 63 69 48 79 74 56 72 61 75\n",
      " 60 76 77 59 68 53 45 50 84 70 88 90 43 62 49 58 34 91 82 83 54 87 35 42\n",
      " 93 47 73 66 33 37 89 95 94 32 40 36 25 41 46 39 24 23 27 28 31 29 96 38]\n",
      "[89 61 32 58 23 66 83 26 22 56 52 65 43 76 14 67 36 87 82 44 81 96 74 78\n",
      " 35 63 17 51 39 57 48 84 91 38 75 49 50 55 13 88 85 42 53 59 86 72 40 28\n",
      " 10 71 41 27 24 20 70 45 19 34 69 37 92 47 18 79 54 30 31 68 12 33 90 73\n",
      " 60 95 93 46  5 64 25  7 62  4 94 80 15 77  6 11 29 97 16  9 21  8]\n",
      "[83 74 53 72 80 58 76 71 62 48 82 68 43 73 59  9 66 42 67 86 85 84 87 61\n",
      " 63 79 65 50 97 56 64 81 52 91 70 88 54 96 89 78 47 57 34 41 60 44 35 55\n",
      " 90 40 69 93 30 77 45 92 37 27 94 75 39 51 32 33 46 38 14 31 28 36 25 95\n",
      " 49 23 24 26 15 20 29 16]\n",
      "[31  7 17 11 14 19 48 37 12 21 23 18  6 83 34  5 43 96  0 22 26  9 46  2\n",
      " 39 36 67 27 54  4 52 10 16 70 51 58 59 55 50 25 62 74  1 44 65 33 78 76\n",
      "  3 75 15 71 61 30 24 53 93 32 45 42 38  8 73 57 97 94 20 86 63 84 40 28\n",
      " 81 41 69 60 89 66 35 72 47 79 49 80 91 56 29 13 90 77 87 85 64 88 68 95\n",
      " 92 82]\n",
      "[ 0 63 17  2 19  1 18  3 51  8  9  4  5 25 46 10 90 47 35 12 13 41 24 23\n",
      "  6 20 30 15 91 27 72 42 14 44 11 61 83 22 33]\n",
      "[ 8 10 31 11 28 27 15  3  9 16 34 12 36 42  6 14 56 33 19 13  7 35 23 44\n",
      " 17 22 25 48 43 30 20 83 38 21 26 29 18 32 53  5 40 50 64 37 41 45 58 91\n",
      " 80  4 47 39 61 92 52 72 46 77 66 24 60 49 97 90 67 51 63 54]\n",
      "[ 4  6 15 24  3  9 33  5  7 16 20 28 10 25 19 14 29  8 13 17 34  2 11 22\n",
      " 12 49 21 23 64 30 39 36 42 26 32 35 31 38 27 46 18 37 40 41 44 43 45 59]\n"
     ]
    }
   ],
   "source": [
    "top_songs_dataset.loc[top_songs_dataset['mode'] == 'Major', 'mode'] = 1\n",
    "top_songs_dataset.loc[top_songs_dataset['mode'] == 'Minor', 'mode'] = 0\n",
    "top_songs_dataset['key'] = top_songs_dataset['key'].fillna(-1)\n",
    "for chord in chords:\n",
    "    top_songs_dataset.loc[top_songs_dataset['key'] == chord, 'key'] = chords.index(chord)\n",
    "labs = list(top_songs_dataset.columns)\n",
    "\n",
    "for lab in labs:\n",
    "    print(top_songs_dataset[lab].unique())"
   ]
  },
  {
   "cell_type": "markdown",
   "metadata": {},
   "source": [
    "# **SORTING THE FEATURES THROUGH ALL DATASETS**"
   ]
  },
  {
   "cell_type": "code",
   "execution_count": 58,
   "metadata": {
    "execution": {
     "iopub.execute_input": "2023-12-23T20:48:31.716495Z",
     "iopub.status.busy": "2023-12-23T20:48:31.716158Z",
     "iopub.status.idle": "2023-12-23T20:48:31.744676Z",
     "shell.execute_reply": "2023-12-23T20:48:31.743344Z",
     "shell.execute_reply.started": "2023-12-23T20:48:31.716468Z"
    }
   },
   "outputs": [
    {
     "name": "stdout",
     "output_type": "stream",
     "text": [
      "{'danceability': 100, 'energy': 100, 'key': 1, 'mode': 1, 'speechiness': 100, 'acousticness': 100, 'instrumentalness': 100, 'liveness': 100, 'valence': 100, 'tempo': 1}\n"
     ]
    },
    {
     "data": {
      "text/html": [
       "<div>\n",
       "<style scoped>\n",
       "    .dataframe tbody tr th:only-of-type {\n",
       "        vertical-align: middle;\n",
       "    }\n",
       "\n",
       "    .dataframe tbody tr th {\n",
       "        vertical-align: top;\n",
       "    }\n",
       "\n",
       "    .dataframe thead th {\n",
       "        text-align: right;\n",
       "    }\n",
       "</style>\n",
       "<table border=\"1\" class=\"dataframe\">\n",
       "  <thead>\n",
       "    <tr style=\"text-align: right;\">\n",
       "      <th></th>\n",
       "      <th>danceability</th>\n",
       "      <th>energy</th>\n",
       "      <th>key</th>\n",
       "      <th>mode</th>\n",
       "      <th>speechiness</th>\n",
       "      <th>acousticness</th>\n",
       "      <th>instrumentalness</th>\n",
       "      <th>liveness</th>\n",
       "      <th>valence</th>\n",
       "      <th>tempo</th>\n",
       "      <th>target</th>\n",
       "    </tr>\n",
       "  </thead>\n",
       "  <tbody>\n",
       "    <tr>\n",
       "      <th>0</th>\n",
       "      <td>0.741</td>\n",
       "      <td>0.6260</td>\n",
       "      <td>1</td>\n",
       "      <td>0</td>\n",
       "      <td>0.0886</td>\n",
       "      <td>0.02000</td>\n",
       "      <td>0.000000</td>\n",
       "      <td>0.0828</td>\n",
       "      <td>0.706</td>\n",
       "      <td>108.029</td>\n",
       "      <td>1</td>\n",
       "    </tr>\n",
       "    <tr>\n",
       "      <th>1</th>\n",
       "      <td>0.447</td>\n",
       "      <td>0.2470</td>\n",
       "      <td>5</td>\n",
       "      <td>0</td>\n",
       "      <td>0.0346</td>\n",
       "      <td>0.87100</td>\n",
       "      <td>0.814000</td>\n",
       "      <td>0.0946</td>\n",
       "      <td>0.250</td>\n",
       "      <td>155.489</td>\n",
       "      <td>0</td>\n",
       "    </tr>\n",
       "    <tr>\n",
       "      <th>2</th>\n",
       "      <td>0.550</td>\n",
       "      <td>0.4150</td>\n",
       "      <td>9</td>\n",
       "      <td>0</td>\n",
       "      <td>0.0520</td>\n",
       "      <td>0.16100</td>\n",
       "      <td>0.000000</td>\n",
       "      <td>0.1080</td>\n",
       "      <td>0.274</td>\n",
       "      <td>172.065</td>\n",
       "      <td>1</td>\n",
       "    </tr>\n",
       "    <tr>\n",
       "      <th>3</th>\n",
       "      <td>0.502</td>\n",
       "      <td>0.6480</td>\n",
       "      <td>0</td>\n",
       "      <td>0</td>\n",
       "      <td>0.0527</td>\n",
       "      <td>0.00513</td>\n",
       "      <td>0.000000</td>\n",
       "      <td>0.2040</td>\n",
       "      <td>0.291</td>\n",
       "      <td>91.837</td>\n",
       "      <td>0</td>\n",
       "    </tr>\n",
       "    <tr>\n",
       "      <th>4</th>\n",
       "      <td>0.807</td>\n",
       "      <td>0.8870</td>\n",
       "      <td>1</td>\n",
       "      <td>1</td>\n",
       "      <td>0.2750</td>\n",
       "      <td>0.00381</td>\n",
       "      <td>0.000000</td>\n",
       "      <td>0.3910</td>\n",
       "      <td>0.780</td>\n",
       "      <td>160.517</td>\n",
       "      <td>1</td>\n",
       "    </tr>\n",
       "    <tr>\n",
       "      <th>...</th>\n",
       "      <td>...</td>\n",
       "      <td>...</td>\n",
       "      <td>...</td>\n",
       "      <td>...</td>\n",
       "      <td>...</td>\n",
       "      <td>...</td>\n",
       "      <td>...</td>\n",
       "      <td>...</td>\n",
       "      <td>...</td>\n",
       "      <td>...</td>\n",
       "      <td>...</td>\n",
       "    </tr>\n",
       "    <tr>\n",
       "      <th>41101</th>\n",
       "      <td>0.420</td>\n",
       "      <td>0.8730</td>\n",
       "      <td>3</td>\n",
       "      <td>1</td>\n",
       "      <td>0.1000</td>\n",
       "      <td>0.80800</td>\n",
       "      <td>0.879000</td>\n",
       "      <td>0.3630</td>\n",
       "      <td>0.183</td>\n",
       "      <td>119.821</td>\n",
       "      <td>0</td>\n",
       "    </tr>\n",
       "    <tr>\n",
       "      <th>41102</th>\n",
       "      <td>0.716</td>\n",
       "      <td>0.7420</td>\n",
       "      <td>10</td>\n",
       "      <td>0</td>\n",
       "      <td>0.2420</td>\n",
       "      <td>0.66300</td>\n",
       "      <td>0.000000</td>\n",
       "      <td>0.1070</td>\n",
       "      <td>0.834</td>\n",
       "      <td>135.104</td>\n",
       "      <td>0</td>\n",
       "    </tr>\n",
       "    <tr>\n",
       "      <th>41103</th>\n",
       "      <td>0.361</td>\n",
       "      <td>0.0944</td>\n",
       "      <td>10</td>\n",
       "      <td>1</td>\n",
       "      <td>0.0327</td>\n",
       "      <td>0.94000</td>\n",
       "      <td>0.000178</td>\n",
       "      <td>0.1150</td>\n",
       "      <td>0.139</td>\n",
       "      <td>92.472</td>\n",
       "      <td>0</td>\n",
       "    </tr>\n",
       "    <tr>\n",
       "      <th>41104</th>\n",
       "      <td>0.452</td>\n",
       "      <td>0.7590</td>\n",
       "      <td>4</td>\n",
       "      <td>0</td>\n",
       "      <td>0.1750</td>\n",
       "      <td>0.65800</td>\n",
       "      <td>0.000000</td>\n",
       "      <td>0.7380</td>\n",
       "      <td>0.853</td>\n",
       "      <td>137.976</td>\n",
       "      <td>0</td>\n",
       "    </tr>\n",
       "    <tr>\n",
       "      <th>41105</th>\n",
       "      <td>0.554</td>\n",
       "      <td>0.2780</td>\n",
       "      <td>5</td>\n",
       "      <td>1</td>\n",
       "      <td>0.0349</td>\n",
       "      <td>0.92800</td>\n",
       "      <td>0.922000</td>\n",
       "      <td>0.1360</td>\n",
       "      <td>0.428</td>\n",
       "      <td>131.401</td>\n",
       "      <td>0</td>\n",
       "    </tr>\n",
       "  </tbody>\n",
       "</table>\n",
       "<p>41106 rows × 11 columns</p>\n",
       "</div>"
      ],
      "text/plain": [
       "       danceability  energy  key  mode  speechiness  acousticness  \\\n",
       "0             0.741  0.6260    1     0       0.0886       0.02000   \n",
       "1             0.447  0.2470    5     0       0.0346       0.87100   \n",
       "2             0.550  0.4150    9     0       0.0520       0.16100   \n",
       "3             0.502  0.6480    0     0       0.0527       0.00513   \n",
       "4             0.807  0.8870    1     1       0.2750       0.00381   \n",
       "...             ...     ...  ...   ...          ...           ...   \n",
       "41101         0.420  0.8730    3     1       0.1000       0.80800   \n",
       "41102         0.716  0.7420   10     0       0.2420       0.66300   \n",
       "41103         0.361  0.0944   10     1       0.0327       0.94000   \n",
       "41104         0.452  0.7590    4     0       0.1750       0.65800   \n",
       "41105         0.554  0.2780    5     1       0.0349       0.92800   \n",
       "\n",
       "       instrumentalness  liveness  valence    tempo  target  \n",
       "0              0.000000    0.0828    0.706  108.029       1  \n",
       "1              0.814000    0.0946    0.250  155.489       0  \n",
       "2              0.000000    0.1080    0.274  172.065       1  \n",
       "3              0.000000    0.2040    0.291   91.837       0  \n",
       "4              0.000000    0.3910    0.780  160.517       1  \n",
       "...                 ...       ...      ...      ...     ...  \n",
       "41101          0.879000    0.3630    0.183  119.821       0  \n",
       "41102          0.000000    0.1070    0.834  135.104       0  \n",
       "41103          0.000178    0.1150    0.139   92.472       0  \n",
       "41104          0.000000    0.7380    0.853  137.976       0  \n",
       "41105          0.922000    0.1360    0.428  131.401       0  \n",
       "\n",
       "[41106 rows x 11 columns]"
      ]
     },
     "execution_count": 58,
     "metadata": {},
     "output_type": "execute_result"
    }
   ],
   "source": [
    "feat_dict={}\n",
    "for lab in list(full_hits_dataset.columns):\n",
    "    if lab in ['target','tempo','key','mode']: \n",
    "        feat_dict[lab]=1\n",
    "        continue\n",
    "    feat_dict[lab]=100\n",
    "full_hits_dataset.mul(feat_dict)\n",
    "# print(len(feat_dict))\n",
    "feat_dict.pop('target')\n",
    "print(feat_dict)\n",
    "top_songs_dataset.mul(feat_dict)\n",
    "most_songs_dataset.mul(feat_dict)\n",
    "top_songs_dataset=top_songs_dataset[most_songs_dataset.columns]\n",
    "full_hits_dataset"
   ]
  },
  {
   "cell_type": "markdown",
   "metadata": {},
   "source": [
    "# **SPLITTING THE TRAINING DATASET**"
   ]
  },
  {
   "cell_type": "code",
   "execution_count": 59,
   "metadata": {
    "execution": {
     "iopub.execute_input": "2023-12-23T20:48:31.775116Z",
     "iopub.status.busy": "2023-12-23T20:48:31.774198Z",
     "iopub.status.idle": "2023-12-23T20:48:32.042297Z",
     "shell.execute_reply": "2023-12-23T20:48:32.041329Z",
     "shell.execute_reply.started": "2023-12-23T20:48:31.775084Z"
    }
   },
   "outputs": [],
   "source": [
    "from sklearn.model_selection import train_test_split\n",
    "\n",
    "y=full_hits_dataset.pop('target')\n",
    "# full_hits_dataset.drop(['mode','key'], inplace=True, axis=1)\n",
    "y.to_csv('/kaggle/working/target.csv')\n",
    "y.to_csv('/kaggle/working/target.csv')\n",
    "full_hits_dataset.to_csv('/kaggle/working/full_hits_dataset.csv')\n",
    "\n",
    "X_train, X_test, y_train, y_test = train_test_split(full_hits_dataset, y, test_size=0.2, random_state=42)\n"
   ]
  },
  {
   "cell_type": "markdown",
   "metadata": {},
   "source": [
    "# **MODEL AND METRICS**"
   ]
  },
  {
   "cell_type": "code",
   "execution_count": 60,
   "metadata": {
    "execution": {
     "iopub.execute_input": "2023-12-23T20:48:32.044466Z",
     "iopub.status.busy": "2023-12-23T20:48:32.043943Z",
     "iopub.status.idle": "2023-12-23T20:48:32.049717Z",
     "shell.execute_reply": "2023-12-23T20:48:32.048684Z",
     "shell.execute_reply.started": "2023-12-23T20:48:32.044442Z"
    }
   },
   "outputs": [],
   "source": [
    "from sklearn import tree\n",
    "from sklearn.ensemble import RandomForestClassifier\n",
    "from sklearn.ensemble import ExtraTreesClassifier\n",
    "\n",
    "from sklearn.ensemble import GradientBoostingClassifier\n",
    "from sklearn.ensemble import HistGradientBoostingClassifier\n",
    "\n",
    "from sklearn.linear_model import SGDClassifier\n",
    "\n",
    "from sklearn.ensemble import AdaBoostClassifier\n",
    "\n",
    "from sklearn import svm\n",
    "\n",
    "from sklearn.neighbors import KNeighborsClassifier\n",
    "from sklearn.neighbors import RadiusNeighborsClassifier\n",
    "\n",
    "from sklearn.gaussian_process import GaussianProcessClassifier\n",
    "\n",
    "from sklearn.metrics import classification_report\n",
    "from sklearn.metrics import confusion_matrix"
   ]
  },
  {
   "cell_type": "markdown",
   "metadata": {},
   "source": [
    "# **WORST MODELS**"
   ]
  },
  {
   "cell_type": "code",
   "execution_count": 95,
   "metadata": {
    "execution": {
     "iopub.execute_input": "2023-12-21T17:53:02.791169Z",
     "iopub.status.busy": "2023-12-21T17:53:02.790753Z",
     "iopub.status.idle": "2023-12-21T17:55:04.105869Z",
     "shell.execute_reply": "2023-12-21T17:55:04.104915Z",
     "shell.execute_reply.started": "2023-12-21T17:53:02.791134Z"
    }
   },
   "outputs": [
    {
     "name": "stdout",
     "output_type": "stream",
     "text": [
      "              precision    recall  f1-score   support\n",
      "\n",
      "           0       0.65      0.35      0.46      4123\n",
      "           1       0.55      0.81      0.66      4099\n",
      "\n",
      "    accuracy                           0.58      8222\n",
      "   macro avg       0.60      0.58      0.56      8222\n",
      "weighted avg       0.60      0.58      0.56      8222\n",
      "\n",
      "[[1458 2665]\n",
      " [ 796 3303]]\n",
      "[1458 2665  796 3303]\n",
      "              precision    recall  f1-score   support\n",
      "\n",
      "           0       0.45      0.39      0.42      4123\n",
      "           1       0.46      0.53      0.49      4099\n",
      "\n",
      "    accuracy                           0.46      8222\n",
      "   macro avg       0.46      0.46      0.46      8222\n",
      "weighted avg       0.46      0.46      0.46      8222\n",
      "\n",
      "[[1609 2514]\n",
      " [1934 2165]]\n",
      "[1609 2514 1934 2165]\n"
     ]
    }
   ],
   "source": [
    "# GaussianProcessClassifier() too much memory can't run\n",
    "# KNeighborsClassifier(),RadiusNeighborsClassifier() no time to try\n",
    "\n",
    "models=[svm.SVC(),svm.NuSVC()]\n",
    "for model in models:\n",
    "    dec = model\n",
    "    dec=dec.fit(X_train,y_train)\n",
    "    y_pred=dec.predict(X_test)\n",
    "\n",
    "\n",
    "    print(classification_report(y_test, y_pred))\n",
    "    conf_mat=confusion_matrix(y_test, y_pred)\n",
    "    print(conf_mat)\n",
    "    print(conf_mat.ravel())"
   ]
  },
  {
   "cell_type": "markdown",
   "metadata": {},
   "source": [
    "# **BEST MODELS**"
   ]
  },
  {
   "cell_type": "code",
   "execution_count": 18,
   "metadata": {
    "execution": {
     "iopub.execute_input": "2023-12-21T16:53:19.176052Z",
     "iopub.status.busy": "2023-12-21T16:53:19.175590Z",
     "iopub.status.idle": "2023-12-21T16:53:53.004401Z",
     "shell.execute_reply": "2023-12-21T16:53:53.003121Z",
     "shell.execute_reply.started": "2023-12-21T16:53:19.176013Z"
    }
   },
   "outputs": [
    {
     "name": "stdout",
     "output_type": "stream",
     "text": [
      "              precision    recall  f1-score   support\n",
      "\n",
      "           0       0.82      0.71      0.76      4123\n",
      "           1       0.74      0.85      0.79      4099\n",
      "\n",
      "    accuracy                           0.78      8222\n",
      "   macro avg       0.78      0.78      0.78      8222\n",
      "weighted avg       0.78      0.78      0.78      8222\n",
      "\n",
      "[[2920 1203]\n",
      " [ 626 3473]]\n",
      "[2920 1203  626 3473]\n",
      "              precision    recall  f1-score   support\n",
      "\n",
      "           0       0.82      0.73      0.77      4123\n",
      "           1       0.75      0.83      0.79      4099\n",
      "\n",
      "    accuracy                           0.78      8222\n",
      "   macro avg       0.79      0.78      0.78      8222\n",
      "weighted avg       0.79      0.78      0.78      8222\n",
      "\n",
      "[[3012 1111]\n",
      " [ 678 3421]]\n",
      "[3012 1111  678 3421]\n",
      "              precision    recall  f1-score   support\n",
      "\n",
      "           0       0.82      0.71      0.76      4123\n",
      "           1       0.74      0.84      0.79      4099\n",
      "\n",
      "    accuracy                           0.78      8222\n",
      "   macro avg       0.78      0.78      0.78      8222\n",
      "weighted avg       0.78      0.78      0.78      8222\n",
      "\n",
      "[[2937 1186]\n",
      " [ 647 3452]]\n",
      "[2937 1186  647 3452]\n",
      "              precision    recall  f1-score   support\n",
      "\n",
      "           0       0.83      0.71      0.76      4123\n",
      "           1       0.74      0.85      0.79      4099\n",
      "\n",
      "    accuracy                           0.78      8222\n",
      "   macro avg       0.78      0.78      0.78      8222\n",
      "weighted avg       0.78      0.78      0.78      8222\n",
      "\n",
      "[[2914 1209]\n",
      " [ 614 3485]]\n",
      "[2914 1209  614 3485]\n",
      "              precision    recall  f1-score   support\n",
      "\n",
      "           0       0.80      0.70      0.75      4123\n",
      "           1       0.73      0.83      0.78      4099\n",
      "\n",
      "    accuracy                           0.76      8222\n",
      "   macro avg       0.77      0.76      0.76      8222\n",
      "weighted avg       0.77      0.76      0.76      8222\n",
      "\n",
      "[[2867 1256]\n",
      " [ 702 3397]]\n",
      "[2867 1256  702 3397]\n"
     ]
    },
    {
     "name": "stderr",
     "output_type": "stream",
     "text": [
      "/opt/conda/lib/python3.10/site-packages/sklearn/svm/_base.py:1244: ConvergenceWarning: Liblinear failed to converge, increase the number of iterations.\n",
      "  warnings.warn(\n"
     ]
    },
    {
     "name": "stdout",
     "output_type": "stream",
     "text": [
      "              precision    recall  f1-score   support\n",
      "\n",
      "           0       0.50      1.00      0.67      4123\n",
      "           1       0.83      0.00      0.01      4099\n",
      "\n",
      "    accuracy                           0.50      8222\n",
      "   macro avg       0.67      0.50      0.34      8222\n",
      "weighted avg       0.67      0.50      0.34      8222\n",
      "\n",
      "[[4120    3]\n",
      " [4084   15]]\n",
      "[4120    3 4084   15]\n",
      "              precision    recall  f1-score   support\n",
      "\n",
      "           0       0.62      0.86      0.72      4123\n",
      "           1       0.78      0.48      0.59      4099\n",
      "\n",
      "    accuracy                           0.67      8222\n",
      "   macro avg       0.70      0.67      0.66      8222\n",
      "weighted avg       0.70      0.67      0.66      8222\n",
      "\n",
      "[[3557  566]\n",
      " [2144 1955]]\n",
      "[3557  566 2144 1955]\n",
      "              precision    recall  f1-score   support\n",
      "\n",
      "           0       0.70      0.69      0.70      4123\n",
      "           1       0.69      0.70      0.70      4099\n",
      "\n",
      "    accuracy                           0.70      8222\n",
      "   macro avg       0.70      0.70      0.70      8222\n",
      "weighted avg       0.70      0.70      0.70      8222\n",
      "\n",
      "[[2854 1269]\n",
      " [1225 2874]]\n",
      "[2854 1269 1225 2874]\n"
     ]
    }
   ],
   "source": [
    "# HistGradientBoostingClassifier(),RandomForestClassifier(),ExtraTreesClassifier(),GradientBoostingClassifier(),AdaBoostClassifier() best\n",
    "# svm.LinearSVC() very good not consistent\n",
    "#tree.DecisionTreeClassifier(),SGDClassifier() +\n",
    "\n",
    "\n",
    "models=[HistGradientBoostingClassifier(),RandomForestClassifier(),ExtraTreesClassifier(),GradientBoostingClassifier(),AdaBoostClassifier(),svm.LinearSVC(),SGDClassifier(),tree.DecisionTreeClassifier()]\n",
    "for model in models:\n",
    "    dec = model\n",
    "    dec=dec.fit(X_train,y_train)\n",
    "    y_pred=dec.predict(X_test)\n",
    "\n",
    "\n",
    "    print(classification_report(y_test, y_pred))\n",
    "    conf_mat=confusion_matrix(y_test, y_pred)\n",
    "    print(conf_mat)\n",
    "    print(conf_mat.ravel())"
   ]
  },
  {
   "cell_type": "markdown",
   "metadata": {},
   "source": [
    "# **PREDICTING**"
   ]
  },
  {
   "cell_type": "code",
   "execution_count": 61,
   "metadata": {
    "execution": {
     "iopub.execute_input": "2023-12-23T20:48:35.968367Z",
     "iopub.status.busy": "2023-12-23T20:48:35.968032Z",
     "iopub.status.idle": "2023-12-23T20:48:47.013068Z",
     "shell.execute_reply": "2023-12-23T20:48:47.012068Z",
     "shell.execute_reply.started": "2023-12-23T20:48:35.968339Z"
    }
   },
   "outputs": [],
   "source": [
    "pred=[]\n",
    "models=[HistGradientBoostingClassifier(),RandomForestClassifier()]\n",
    "# models=[HistGradientBoostingClassifier()]\n",
    "for model in models:\n",
    "    dec = model\n",
    "    dec=dec.fit(X_train,y_train)\n",
    "    y_pred=dec.predict(most_songs_dataset)\n",
    "    pred.append(y_pred)\n",
    "\n",
    "# full_msd_hgbc=track_artist_msd+most_songs_dataset+y_pred[0]\n",
    "# full_msd_rfc=track_artist_msd+most_songs_dataset+y_pred[1]"
   ]
  },
  {
   "cell_type": "code",
   "execution_count": 62,
   "metadata": {
    "execution": {
     "iopub.execute_input": "2023-12-23T20:48:48.189600Z",
     "iopub.status.busy": "2023-12-23T20:48:48.189226Z",
     "iopub.status.idle": "2023-12-23T20:48:48.195273Z",
     "shell.execute_reply": "2023-12-23T20:48:48.194245Z",
     "shell.execute_reply.started": "2023-12-23T20:48:48.189571Z"
    }
   },
   "outputs": [],
   "source": [
    "pred[0]=pd.DataFrame(pred[0],columns=['hit'])\n",
    "pred[1]=pd.DataFrame(pred[1],columns=['hit'])\n"
   ]
  },
  {
   "cell_type": "code",
   "execution_count": 63,
   "metadata": {
    "execution": {
     "iopub.execute_input": "2023-12-23T20:48:48.636884Z",
     "iopub.status.busy": "2023-12-23T20:48:48.636509Z",
     "iopub.status.idle": "2023-12-23T20:48:58.923254Z",
     "shell.execute_reply": "2023-12-23T20:48:58.921822Z",
     "shell.execute_reply.started": "2023-12-23T20:48:48.636853Z"
    }
   },
   "outputs": [],
   "source": [
    "preds=[]\n",
    "models=[HistGradientBoostingClassifier(),RandomForestClassifier()]\n",
    "# models=[HistGradientBoostingClassifier()]\n",
    "for model in models:\n",
    "    dec = model\n",
    "    dec=dec.fit(X_train,y_train)\n",
    "    y_pred=dec.predict(top_songs_dataset)\n",
    "    preds.append(y_pred)"
   ]
  },
  {
   "cell_type": "code",
   "execution_count": 64,
   "metadata": {
    "execution": {
     "iopub.execute_input": "2023-12-23T20:49:00.031843Z",
     "iopub.status.busy": "2023-12-23T20:49:00.031461Z",
     "iopub.status.idle": "2023-12-23T20:49:00.037153Z",
     "shell.execute_reply": "2023-12-23T20:49:00.036190Z",
     "shell.execute_reply.started": "2023-12-23T20:49:00.031811Z"
    }
   },
   "outputs": [],
   "source": [
    "preds[0]=pd.DataFrame(pred[0],columns=['hit'])\n",
    "preds[1]=pd.DataFrame(pred[1],columns=['hit'])"
   ]
  },
  {
   "cell_type": "markdown",
   "metadata": {},
   "source": [
    "# **FINAL PREDICTIONS DATASET**"
   ]
  },
  {
   "cell_type": "code",
   "execution_count": 70,
   "metadata": {
    "execution": {
     "iopub.execute_input": "2023-12-23T20:49:38.848709Z",
     "iopub.status.busy": "2023-12-23T20:49:38.848333Z",
     "iopub.status.idle": "2023-12-23T20:49:38.862082Z",
     "shell.execute_reply": "2023-12-23T20:49:38.860899Z",
     "shell.execute_reply.started": "2023-12-23T20:49:38.848681Z"
    }
   },
   "outputs": [
    {
     "name": "stdout",
     "output_type": "stream",
     "text": [
      "(32833, 2)\n",
      "[False  True] [False  True]\n"
     ]
    }
   ],
   "source": [
    "# result = pd.concat([df1, df4], axis=1, join=\"inner\")\n",
    "\n",
    "full_msd_hgbc=pd.concat([track_artist_msd,pred[0]], axis=1, join=\"inner\",ignore_index=True)\n",
    "full_msd_rfc=pd.concat([track_artist_msd,pred[1]], axis=1, join=\"inner\",ignore_index=True)\n",
    "# full_msd_hgbc.rename(columns={\"0\": \"track - artist\", \"1\": \"Hit\"},inplace=True)\n",
    "# full_msd_rfc.rename(columns={\"0\": \"track - artist\", \"1\": \"Hit\"},inplace=True)\n",
    "print(full_msd_hgbc.shape)\n",
    "full_msd_hgbc=full_msd_hgbc.set_axis(['track - artist', 'hit'], axis='columns')\n",
    "full_msd_rfc=full_msd_rfc.set_axis(['track - artist', 'hit'], axis='columns')\n",
    "# full_msd_hgbc.compare(full_msd_rfc)\n",
    "print(full_msd_hgbc['track - artist'].isin(top_songs_views_dataset['track - artist'].values).unique(),\n",
    "full_msd_rfc['track - artist'].isin(top_songs_views_dataset['track - artist'].values).unique())"
   ]
  },
  {
   "cell_type": "code",
   "execution_count": 71,
   "metadata": {
    "execution": {
     "iopub.execute_input": "2023-12-23T20:49:39.236922Z",
     "iopub.status.busy": "2023-12-23T20:49:39.235882Z",
     "iopub.status.idle": "2023-12-23T20:49:39.248486Z",
     "shell.execute_reply": "2023-12-23T20:49:39.247145Z",
     "shell.execute_reply.started": "2023-12-23T20:49:39.236883Z"
    }
   },
   "outputs": [
    {
     "name": "stdout",
     "output_type": "stream",
     "text": [
      "(953, 2)\n",
      "[ True] [ True]\n"
     ]
    }
   ],
   "source": [
    "# result = pd.concat([df1, df4], axis=1, join=\"inner\")\n",
    "\n",
    "full_tsd_hgbc=pd.concat([track_artist_tsd,preds[0]], axis=1, join=\"inner\",ignore_index=True)\n",
    "full_tsd_rfc=pd.concat([track_artist_tsd,preds[1]], axis=1, join=\"inner\",ignore_index=True)\n",
    "# full_msd_hgbc.rename(columns={\"0\": \"track - artist\", \"1\": \"Hit\"},inplace=True)\n",
    "# full_msd_rfc.rename(columns={\"0\": \"track - artist\", \"1\": \"Hit\"},inplace=True)\n",
    "print(full_tsd_hgbc.shape)\n",
    "full_tsd_hgbc=full_tsd_hgbc.set_axis(['track - artist', 'hit'], axis='columns')\n",
    "full_tsd_rfc=full_tsd_rfc.set_axis(['track - artist', 'hit'], axis='columns')\n",
    "# full_msd_hgbc.compare(full_msd_rfc)\n",
    "print(full_tsd_hgbc['track - artist'].isin(top_songs_views_dataset['track - artist'].values).unique(),\n",
    "full_tsd_rfc['track - artist'].isin(top_songs_views_dataset['track - artist'].values).unique())"
   ]
  },
  {
   "cell_type": "markdown",
   "metadata": {},
   "source": [
    "# **COMPARING THE PREDICTIONS WTH THEIR VIEW COUNT**"
   ]
  },
  {
   "cell_type": "code",
   "execution_count": 72,
   "metadata": {
    "execution": {
     "iopub.execute_input": "2023-12-23T20:49:41.353085Z",
     "iopub.status.busy": "2023-12-23T20:49:41.352771Z",
     "iopub.status.idle": "2023-12-23T20:49:41.385212Z",
     "shell.execute_reply": "2023-12-23T20:49:41.384423Z",
     "shell.execute_reply.started": "2023-12-23T20:49:41.353062Z"
    }
   },
   "outputs": [
    {
     "name": "stdout",
     "output_type": "stream",
     "text": [
      "(953, 2) (32833, 2) hit\n",
      "1    24552\n",
      "0     8281\n",
      "Name: count, dtype: int64 (32833, 2) hit\n",
      "1    24540\n",
      "0     8293\n",
      "Name: count, dtype: int64\n",
      "hit\n",
      "1    198\n",
      "0     49\n",
      "Name: count, dtype: int64 (247, 3) hit\n",
      "1    226\n",
      "0     21\n",
      "Name: count, dtype: int64 (247, 3)\n"
     ]
    }
   ],
   "source": [
    "full_msd_rfc.set_axis(['track - artist', 'hit'],axis='columns')\n",
    "full_msd_hgbc.set_axis(['track - artist', 'hit'],axis='columns')\n",
    "print(top_songs_views_dataset.shape,full_msd_hgbc.shape,full_msd_hgbc['hit'].value_counts(),full_msd_rfc.shape,full_msd_rfc['hit'].value_counts())\n",
    "merged_msd_hgbc = full_msd_hgbc.merge(top_songs_views_dataset,how=\"inner\")\n",
    "merged_msd_rfc=full_msd_rfc.merge(top_songs_views_dataset,how=\"inner\")\n",
    "print(merged_msd_hgbc['hit'].value_counts(),merged_msd_hgbc.shape,\n",
    "merged_msd_rfc['hit'].value_counts(),merged_msd_rfc.shape)"
   ]
  },
  {
   "cell_type": "code",
   "execution_count": 73,
   "metadata": {
    "execution": {
     "iopub.execute_input": "2023-12-23T20:49:43.506981Z",
     "iopub.status.busy": "2023-12-23T20:49:43.506468Z",
     "iopub.status.idle": "2023-12-23T20:49:43.523323Z",
     "shell.execute_reply": "2023-12-23T20:49:43.522024Z",
     "shell.execute_reply.started": "2023-12-23T20:49:43.506954Z"
    }
   },
   "outputs": [
    {
     "name": "stdout",
     "output_type": "stream",
     "text": [
      "(953, 2) (953, 2) hit\n",
      "1    856\n",
      "0     97\n",
      "Name: count, dtype: int64 (953, 2) hit\n",
      "1    861\n",
      "0     92\n",
      "Name: count, dtype: int64\n",
      "hit\n",
      "1    863\n",
      "0     98\n",
      "Name: count, dtype: int64 (961, 3) hit\n",
      "1    868\n",
      "0     93\n",
      "Name: count, dtype: int64 (961, 3)\n"
     ]
    }
   ],
   "source": [
    "full_tsd_rfc.set_axis(['track - artist', 'hit'],axis='columns')\n",
    "full_tsd_hgbc.set_axis(['track - artist', 'hit'],axis='columns')\n",
    "print(top_songs_views_dataset.shape,full_tsd_hgbc.shape,full_tsd_hgbc['hit'].value_counts(),full_tsd_rfc.shape,full_tsd_rfc['hit'].value_counts())\n",
    "merged_tsd_hgbc = full_tsd_hgbc.merge(top_songs_views_dataset,how=\"inner\")\n",
    "merged_tsd_rfc=full_tsd_rfc.merge(top_songs_views_dataset,how=\"inner\")\n",
    "print(merged_tsd_hgbc['hit'].value_counts(),merged_tsd_hgbc.shape,\n",
    "merged_tsd_rfc['hit'].value_counts(),merged_tsd_rfc.shape)"
   ]
  },
  {
   "cell_type": "markdown",
   "metadata": {},
   "source": [
    "# **FINAL RESULTS**"
   ]
  },
  {
   "cell_type": "code",
   "execution_count": 74,
   "metadata": {
    "execution": {
     "iopub.execute_input": "2023-12-23T20:49:49.626029Z",
     "iopub.status.busy": "2023-12-23T20:49:49.625643Z",
     "iopub.status.idle": "2023-12-23T20:49:49.638007Z",
     "shell.execute_reply": "2023-12-23T20:49:49.636930Z",
     "shell.execute_reply.started": "2023-12-23T20:49:49.626002Z"
    }
   },
   "outputs": [
    {
     "data": {
      "text/html": [
       "<div>\n",
       "<style scoped>\n",
       "    .dataframe tbody tr th:only-of-type {\n",
       "        vertical-align: middle;\n",
       "    }\n",
       "\n",
       "    .dataframe tbody tr th {\n",
       "        vertical-align: top;\n",
       "    }\n",
       "\n",
       "    .dataframe thead th {\n",
       "        text-align: right;\n",
       "    }\n",
       "</style>\n",
       "<table border=\"1\" class=\"dataframe\">\n",
       "  <thead>\n",
       "    <tr style=\"text-align: right;\">\n",
       "      <th></th>\n",
       "      <th>track - artist</th>\n",
       "      <th>hit</th>\n",
       "      <th>views</th>\n",
       "    </tr>\n",
       "  </thead>\n",
       "  <tbody>\n",
       "    <tr>\n",
       "      <th>0</th>\n",
       "      <td>The Nights Avicii</td>\n",
       "      <td>1</td>\n",
       "      <td>1456081449</td>\n",
       "    </tr>\n",
       "    <tr>\n",
       "      <th>1</th>\n",
       "      <td>The Nights Avicii</td>\n",
       "      <td>1</td>\n",
       "      <td>1456081449</td>\n",
       "    </tr>\n",
       "    <tr>\n",
       "      <th>2</th>\n",
       "      <td>The Nights Avicii</td>\n",
       "      <td>1</td>\n",
       "      <td>1456081449</td>\n",
       "    </tr>\n",
       "    <tr>\n",
       "      <th>3</th>\n",
       "      <td>Counting Stars OneRepublic</td>\n",
       "      <td>1</td>\n",
       "      <td>2011464183</td>\n",
       "    </tr>\n",
       "    <tr>\n",
       "      <th>4</th>\n",
       "      <td>Counting Stars OneRepublic</td>\n",
       "      <td>1</td>\n",
       "      <td>2011464183</td>\n",
       "    </tr>\n",
       "    <tr>\n",
       "      <th>...</th>\n",
       "      <td>...</td>\n",
       "      <td>...</td>\n",
       "      <td>...</td>\n",
       "    </tr>\n",
       "    <tr>\n",
       "      <th>242</th>\n",
       "      <td>Falling Harry Styles</td>\n",
       "      <td>1</td>\n",
       "      <td>1023187129</td>\n",
       "    </tr>\n",
       "    <tr>\n",
       "      <th>243</th>\n",
       "      <td>Dark Red Steve Lacy</td>\n",
       "      <td>1</td>\n",
       "      <td>920045682</td>\n",
       "    </tr>\n",
       "    <tr>\n",
       "      <th>244</th>\n",
       "      <td>All I Want for Christmas Is You Mariah Carey</td>\n",
       "      <td>1</td>\n",
       "      <td>1449779435</td>\n",
       "    </tr>\n",
       "    <tr>\n",
       "      <th>245</th>\n",
       "      <td>Run Rudolph Run - Single Version Chuck Berry</td>\n",
       "      <td>0</td>\n",
       "      <td>245350949</td>\n",
       "    </tr>\n",
       "    <tr>\n",
       "      <th>246</th>\n",
       "      <td>Christmas (Baby Please Come Home) Darlene Love</td>\n",
       "      <td>1</td>\n",
       "      <td>242767149</td>\n",
       "    </tr>\n",
       "  </tbody>\n",
       "</table>\n",
       "<p>247 rows × 3 columns</p>\n",
       "</div>"
      ],
      "text/plain": [
       "                                     track - artist  hit       views\n",
       "0                                 The Nights Avicii    1  1456081449\n",
       "1                                 The Nights Avicii    1  1456081449\n",
       "2                                 The Nights Avicii    1  1456081449\n",
       "3                        Counting Stars OneRepublic    1  2011464183\n",
       "4                        Counting Stars OneRepublic    1  2011464183\n",
       "..                                              ...  ...         ...\n",
       "242                            Falling Harry Styles    1  1023187129\n",
       "243                             Dark Red Steve Lacy    1   920045682\n",
       "244    All I Want for Christmas Is You Mariah Carey    1  1449779435\n",
       "245    Run Rudolph Run - Single Version Chuck Berry    0   245350949\n",
       "246  Christmas (Baby Please Come Home) Darlene Love    1   242767149\n",
       "\n",
       "[247 rows x 3 columns]"
      ]
     },
     "execution_count": 74,
     "metadata": {},
     "output_type": "execute_result"
    }
   ],
   "source": [
    "merged_msd_rfc"
   ]
  },
  {
   "cell_type": "code",
   "execution_count": 75,
   "metadata": {
    "execution": {
     "iopub.execute_input": "2023-12-23T20:49:50.606521Z",
     "iopub.status.busy": "2023-12-23T20:49:50.606204Z",
     "iopub.status.idle": "2023-12-23T20:49:50.618720Z",
     "shell.execute_reply": "2023-12-23T20:49:50.617744Z",
     "shell.execute_reply.started": "2023-12-23T20:49:50.606495Z"
    }
   },
   "outputs": [
    {
     "data": {
      "text/html": [
       "<div>\n",
       "<style scoped>\n",
       "    .dataframe tbody tr th:only-of-type {\n",
       "        vertical-align: middle;\n",
       "    }\n",
       "\n",
       "    .dataframe tbody tr th {\n",
       "        vertical-align: top;\n",
       "    }\n",
       "\n",
       "    .dataframe thead th {\n",
       "        text-align: right;\n",
       "    }\n",
       "</style>\n",
       "<table border=\"1\" class=\"dataframe\">\n",
       "  <thead>\n",
       "    <tr style=\"text-align: right;\">\n",
       "      <th></th>\n",
       "      <th>track - artist</th>\n",
       "      <th>hit</th>\n",
       "      <th>views</th>\n",
       "    </tr>\n",
       "  </thead>\n",
       "  <tbody>\n",
       "    <tr>\n",
       "      <th>0</th>\n",
       "      <td>Seven (feat. Latto) (Explicit Ver.) Latto, Jun...</td>\n",
       "      <td>1</td>\n",
       "      <td>141381703</td>\n",
       "    </tr>\n",
       "    <tr>\n",
       "      <th>1</th>\n",
       "      <td>LALA Myke Towers</td>\n",
       "      <td>1</td>\n",
       "      <td>133716286</td>\n",
       "    </tr>\n",
       "    <tr>\n",
       "      <th>2</th>\n",
       "      <td>vampire Olivia Rodrigo</td>\n",
       "      <td>1</td>\n",
       "      <td>140003974</td>\n",
       "    </tr>\n",
       "    <tr>\n",
       "      <th>3</th>\n",
       "      <td>Cruel Summer Taylor Swift</td>\n",
       "      <td>0</td>\n",
       "      <td>800840817</td>\n",
       "    </tr>\n",
       "    <tr>\n",
       "      <th>4</th>\n",
       "      <td>WHERE SHE GOES Bad Bunny</td>\n",
       "      <td>1</td>\n",
       "      <td>303236322</td>\n",
       "    </tr>\n",
       "    <tr>\n",
       "      <th>...</th>\n",
       "      <td>...</td>\n",
       "      <td>...</td>\n",
       "      <td>...</td>\n",
       "    </tr>\n",
       "    <tr>\n",
       "      <th>956</th>\n",
       "      <td>My Mind &amp; Me Selena Gomez</td>\n",
       "      <td>1</td>\n",
       "      <td>91473363</td>\n",
       "    </tr>\n",
       "    <tr>\n",
       "      <th>957</th>\n",
       "      <td>Bigger Than The Whole Sky Taylor Swift</td>\n",
       "      <td>1</td>\n",
       "      <td>121871870</td>\n",
       "    </tr>\n",
       "    <tr>\n",
       "      <th>958</th>\n",
       "      <td>A Veces (feat. Feid) Feid, Paulo Londra</td>\n",
       "      <td>1</td>\n",
       "      <td>73513683</td>\n",
       "    </tr>\n",
       "    <tr>\n",
       "      <th>959</th>\n",
       "      <td>En La De Ella Feid, Sech, Jhayco</td>\n",
       "      <td>1</td>\n",
       "      <td>133895612</td>\n",
       "    </tr>\n",
       "    <tr>\n",
       "      <th>960</th>\n",
       "      <td>Alone Burna Boy</td>\n",
       "      <td>1</td>\n",
       "      <td>96007391</td>\n",
       "    </tr>\n",
       "  </tbody>\n",
       "</table>\n",
       "<p>961 rows × 3 columns</p>\n",
       "</div>"
      ],
      "text/plain": [
       "                                        track - artist  hit      views\n",
       "0    Seven (feat. Latto) (Explicit Ver.) Latto, Jun...    1  141381703\n",
       "1                                     LALA Myke Towers    1  133716286\n",
       "2                               vampire Olivia Rodrigo    1  140003974\n",
       "3                            Cruel Summer Taylor Swift    0  800840817\n",
       "4                             WHERE SHE GOES Bad Bunny    1  303236322\n",
       "..                                                 ...  ...        ...\n",
       "956                          My Mind & Me Selena Gomez    1   91473363\n",
       "957             Bigger Than The Whole Sky Taylor Swift    1  121871870\n",
       "958            A Veces (feat. Feid) Feid, Paulo Londra    1   73513683\n",
       "959                   En La De Ella Feid, Sech, Jhayco    1  133895612\n",
       "960                                    Alone Burna Boy    1   96007391\n",
       "\n",
       "[961 rows x 3 columns]"
      ]
     },
     "execution_count": 75,
     "metadata": {},
     "output_type": "execute_result"
    }
   ],
   "source": [
    "merged_tsd_rfc"
   ]
  },
  {
   "cell_type": "markdown",
   "metadata": {},
   "source": [
    "# **AFTER THIS:**\n",
    "* locate songs better\n",
    "* add another test dataset to check more precisely\n",
    "* explore more nominal data not just numerical data\n",
    "* add matplotlib charts for better visualization\n",
    "* **and finally publish the blog**"
   ]
  },
  {
   "cell_type": "markdown",
   "metadata": {},
   "source": [
    "# **IN THE FUTURE**\n",
    "* play around with the modifiers of the two best models\n",
    "* try it maybe on the milion song dataset"
   ]
  }
 ],
 "metadata": {
  "kernelspec": {
   "display_name": "Python 3 (ipykernel)",
   "language": "python",
   "name": "python3"
  },
  "language_info": {
   "codemirror_mode": {
    "name": "ipython",
    "version": 3
   },
   "file_extension": ".py",
   "mimetype": "text/x-python",
   "name": "python",
   "nbconvert_exporter": "python",
   "pygments_lexer": "ipython3",
   "version": "3.11.5"
  }
 },
 "nbformat": 4,
 "nbformat_minor": 4
}
